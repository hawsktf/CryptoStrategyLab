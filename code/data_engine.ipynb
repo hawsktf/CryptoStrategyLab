{
 "cells": [
  {
   "cell_type": "code",
   "execution_count": 4,
   "metadata": {},
   "outputs": [],
   "source": [
    "from utilities.data_manager import DataManager"
   ]
  },
  {
   "cell_type": "code",
   "execution_count": 7,
   "metadata": {},
   "outputs": [],
   "source": [
    "exchange = \"binance\" # \"bitget\"\n",
    "timeframe = \"1h\"\n",
    "pairs = [\n",
    "    # \"BTC/USDT\",\n",
    "    \"BTC/USDT:USDT\",\n",
    "    \"ETH/USDT:USDT\",\n",
    "]"
   ]
  },
  {
   "cell_type": "code",
   "execution_count": 8,
   "metadata": {},
   "outputs": [
    {
     "name": "stdout",
     "output_type": "stream",
     "text": [
      "fetched ohlcv data for BTC/USDT:USDT from 2024-05-12 15:00:00\n",
      "fetched ohlcv data for BTC/USDT:USDT from 2024-06-23 07:00:00\n",
      "fetched ohlcv data for BTC/USDT:USDT from 2024-08-03 23:00:00\n",
      "fetched ohlcv data for BTC/USDT:USDT from 2024-09-14 15:00:00\n",
      "fetched ohlcv data for BTC/USDT:USDT from 2024-10-26 07:00:00\n",
      "fetched ohlcv data for BTC/USDT:USDT from 2024-12-06 23:00:00\n",
      "fetched ohlcv data for BTC/USDT:USDT from 2025-01-17 15:00:00\n",
      "fetched ohlcv data for BTC/USDT:USDT from 2025-02-19 07:00:00\n",
      "fetched ohlcv data for ETH/USDT:USDT from 2024-05-12 15:00:00\n",
      "fetched ohlcv data for ETH/USDT:USDT from 2024-06-23 07:00:00\n",
      "fetched ohlcv data for ETH/USDT:USDT from 2024-08-03 23:00:00\n",
      "fetched ohlcv data for ETH/USDT:USDT from 2024-09-14 15:00:00\n",
      "fetched ohlcv data for ETH/USDT:USDT from 2024-10-26 07:00:00\n",
      "fetched ohlcv data for ETH/USDT:USDT from 2024-12-06 23:00:00\n",
      "fetched ohlcv data for ETH/USDT:USDT from 2025-01-17 15:00:00\n",
      "fetched ohlcv data for ETH/USDT:USDT from 2025-02-19 07:00:00\n"
     ]
    }
   ],
   "source": [
    "data = DataManager(name=exchange, path=\"../data\")\n",
    "\n",
    "for pair in pairs:\n",
    "    data.download(pair, timeframe, start_date=\"2024-04-01 00:00:00\")  # end_date=\"2022-01-01\""
   ]
  },
  {
   "cell_type": "code",
   "execution_count": 9,
   "metadata": {},
   "outputs": [
    {
     "name": "stdout",
     "output_type": "stream",
     "text": [
      "BTC/USDT:USDT \n",
      "                         open     high      low    close     volume\n",
      "date                                                              \n",
      "2024-04-01 00:00:00  71363.0  71388.0  70935.5  71234.1   7161.196\n",
      "2024-04-01 01:00:00  71234.1  71260.0  70858.9  70885.1   6026.472\n",
      "2024-04-01 02:00:00  70885.0  70975.0  70827.6  70930.1   3018.134\n",
      "2024-04-01 03:00:00  70930.1  70955.4  70588.0  70650.1   5609.521\n",
      "2024-04-01 04:00:00  70650.0  70727.2  70484.6  70512.8   5033.489\n",
      "...                      ...      ...      ...      ...        ...\n",
      "2024-04-04 20:00:00  68483.9  68548.8  67291.3  67945.3  36733.783\n",
      "2024-04-04 21:00:00  67945.2  68167.8  67500.0  67808.4   7666.411\n",
      "2024-04-04 22:00:00  67808.3  68074.7  67607.3  67939.9   5310.818\n",
      "2024-04-04 23:00:00  67939.8  68581.0  67891.2  68489.9  10165.665\n",
      "2024-04-05 00:00:00  68489.8  68787.1  68158.3  68601.7   7950.242\n",
      "\n",
      "[97 rows x 5 columns] \n",
      "\n",
      "ETH/USDT:USDT \n",
      "                         open     high      low    close      volume\n",
      "date                                                               \n",
      "2024-04-01 00:00:00  3648.80  3649.67  3618.27  3629.87   75185.196\n",
      "2024-04-01 01:00:00  3629.86  3631.24  3610.14  3613.55   58576.342\n",
      "2024-04-01 02:00:00  3613.54  3619.90  3610.00  3616.80   39610.569\n",
      "2024-04-01 03:00:00  3616.80  3624.30  3604.00  3614.45   56050.412\n",
      "2024-04-01 04:00:00  3614.46  3617.66  3603.17  3603.90   39607.275\n",
      "...                      ...      ...      ...      ...         ...\n",
      "2024-04-04 20:00:00  3367.83  3372.00  3277.55  3327.19  407456.947\n",
      "2024-04-04 21:00:00  3327.19  3339.99  3301.29  3323.78   76239.597\n",
      "2024-04-04 22:00:00  3323.79  3333.70  3309.90  3314.66   58096.278\n",
      "2024-04-04 23:00:00  3314.66  3338.38  3310.92  3329.65   49305.003\n",
      "2024-04-05 00:00:00  3329.65  3337.80  3310.52  3331.34   67745.084\n",
      "\n",
      "[97 rows x 5 columns] \n",
      "\n"
     ]
    }
   ],
   "source": [
    "for pair in pairs:\n",
    "    ohlcv = data.load(pair, timeframe, start_date=\"2024-04-01 00:00:00\", end_date=\"2024-04-05 00:00:00\")\n",
    "    print(f\"{pair} \\n {ohlcv} \\n\")"
   ]
  },
  {
   "cell_type": "code",
   "execution_count": 10,
   "metadata": {},
   "outputs": [
    {
     "name": "stdout",
     "output_type": "stream",
     "text": [
      "['ETH/BTC', 'QTUM/ETH', 'EOS/ETH', 'SNT/ETH', 'BNT/ETH', 'BNB/ETH', 'ETH/USDT', 'OAX/ETH', 'DNT/ETH', 'MCO/ETH', 'ICN/ETH', 'WTC/ETH', 'LRC/ETH', 'OMG/ETH', 'ZRX/ETH', 'STRAT/ETH', 'SNGLS/ETH', 'BQX/ETH', 'KNC/ETH', 'FUN/ETH', 'SNM/ETH', 'NEO/ETH', 'IOTA/ETH', 'LINK/ETH', 'XVG/ETH', 'SALT/ETH', 'MDA/ETH', 'MTL/ETH', 'SUB/ETH', 'ETC/ETH', 'MTH/ETH', 'ENG/ETH', 'ZEC/ETH', 'AST/ETH', 'DASH/ETH', 'BTG/ETH', 'EVX/ETH', 'REQ/ETH', 'VIB/ETH', 'HSR/ETH', 'TRX/ETH', 'POWR/ETH', 'ARK/ETH', 'YOYOW/ETH', 'XRP/ETH', 'MOD/ETH', 'ENJ/ETH', 'STORJ/ETH', 'VEN/ETH', 'KMD/ETH', 'RCN/ETH', 'NULS/ETH', 'RDN/ETH', 'XMR/ETH', 'DLT/ETH', 'AMB/ETH', 'BCC/ETH', 'BAT/ETH', 'BCPT/ETH', 'ARN/ETH', 'GVT/ETH', 'CDT/ETH', 'GXS/ETH', 'POE/ETH', 'QSP/ETH', 'BTS/ETH', 'XZC/ETH', 'LSK/ETH', 'TNT/ETH', 'FUEL/ETH', 'MANA/ETH', 'BCD/ETH', 'DGD/ETH', 'ADX/ETH', 'ADA/ETH', 'PPT/ETH', 'CMT/ETH', 'XLM/ETH', 'CND/ETH', 'LEND/ETH', 'WABI/ETH', 'LTC/ETH', 'TNB/ETH', 'WAVES/ETH', 'GTO/ETH', 'ICX/ETH', 'OST/ETH', 'ELF/ETH', 'AION/ETH', 'BRD/ETH', 'EDO/ETH', 'WINGS/ETH', 'NAV/ETH', 'LUN/ETH', 'TRIG/ETH', 'APPC/ETH', 'VIBE/ETH', 'RLC/ETH', 'INS/ETH', 'IOST/ETH', 'CHAT/ETH', 'STEEM/ETH', 'NANO/ETH', 'VIA/ETH', 'BLZ/ETH', 'AE/ETH', 'RPX/ETH', 'NCASH/ETH', 'POA/ETH', 'ZIL/ETH', 'ONT/ETH', 'STORM/ETH', 'XEM/ETH', 'WAN/ETH', 'WPR/ETH', 'QLC/ETH', 'SYS/ETH', 'GRS/ETH', 'CLOAK/ETH', 'GNT/ETH', 'LOOM/ETH', 'BCN/ETH', 'ETH/TUSD', 'TUSD/ETH', 'ZEN/ETH', 'SKY/ETH', 'CVC/ETH', 'THETA/ETH', 'IOTX/ETH', 'QKC/ETH', 'AGI/ETH', 'NXS/ETH', 'DATA/ETH', 'SC/ETH', 'NPXS/ETH', 'KEY/ETH', 'NAS/ETH', 'MFT/ETH', 'DENT/ETH', 'ARDR/ETH', 'HOT/ETH', 'VET/ETH', 'DOCK/ETH', 'PHX/ETH', 'HC/ETH', 'PAX/ETH', 'ETH/PAX', 'ETH/USDC', 'ETH/BUSD', 'ETH/RUB', 'ETH/TRY', 'ETH/EUR', 'ETHBULL/USDT', 'ETHBULL/BUSD', 'ETHBEAR/USDT', 'ETHBEAR/BUSD', 'ETH/ZAR', 'ETH/BKRW', 'STMX/ETH', 'ETH/GBP', 'ETH/BIDR', 'ETHUP/USDT', 'ETHDOWN/USDT', 'ETH/AUD', 'ETH/DAI', 'ETH/NGN', 'WBTC/ETH', 'SCRT/ETH', 'AAVE/ETH', 'EASY/ETH', 'ETH/BRL', 'RENBTC/ETH', 'SLP/ETH', 'CVP/ETH', 'STRAX/ETH', 'FRONT/ETH', 'HEGIC/ETH', 'SUSD/ETH', 'COVER/ETH', 'GLM/ETH', 'GHST/ETH', 'DF/ETH', 'GRT/ETH', 'DEXE/ETH', 'FIRO/ETH', 'BETH/ETH', 'PROS/ETH', 'UFT/ETH', 'PUNDIX/ETH', 'EZ/ETH', 'ETH/UAH', 'VGX/ETH', 'ETH/USDP', 'AXS/ETH', 'FTM/ETH', 'SOL/ETH', 'SSV/ETH', 'SAND/ETH', 'DOT/ETH', 'MATIC/ETH', 'AVAX/ETH', 'CHR/ETH', 'GALA/ETH', 'LUNA/ETH', 'ATOM/ETH', 'EGLD/ETH', 'ICP/ETH', 'NEAR/ETH', 'VOXEL/ETH', 'ETH/UST', 'ONE/ETH', 'DYDX/ETH', 'FARM/ETH', 'JASMY/ETH', 'OOKI/ETH', 'ROSE/ETH', 'UNI/ETH', 'XTZ/ETH', 'CRV/ETH', 'XNO/ETH', 'KAVA/ETH', 'CELR/ETH', 'BETA/ETH', 'KSM/ETH', 'GMT/ETH', 'RUNE/ETH', 'APE/ETH', 'BSW/ETH', 'ASTR/ETH', 'FTT/ETH', 'REI/ETH', 'DAR/ETH', 'ALGO/ETH', 'GAL/ETH', 'SNX/ETH', 'BEL/ETH', 'LIT/ETH', 'BURGER/ETH', 'PEOPLE/ETH', 'UNFI/ETH', 'BOND/ETH', 'OP/ETH', 'WING/ETH', 'FIL/ETH', 'BETH/BUSD', 'ETH/PLN', 'ARPA/ETH', 'HIFI/ETH', 'APT/ETH', 'BETH/USDT', 'WBETH/ETH', 'ARB/ETH', 'WBETH/USDT', 'ETH/FDUSD', 'CYBER/ETH', 'INJ/ETH', 'ETH/AEUR', 'MEME/ETH', 'ETH/JPY', 'ETHFI/BTC', 'ETHFI/USDT', 'ETHFI/BNB', 'ETHFI/FDUSD', 'ETHFI/TRY', 'ETHFI/USDC', 'ETH/ARS', 'POL/ETH', 'ETH/EURI', 'S/ETH', 'ETH/USDT:USDT', 'ETH/BTC:BTC', 'ETHW/USDT:USDT', 'ETH/USDC:USDC', 'ETHFI/USDT:USDT', 'ETHFI/USDC:USDC', 'NEIROETH/USDT:USDT', 'ETH/USDT:USDT-250328', 'ETH/USDT:USDT-250627', 'ETH/USD:ETH', 'ETH/USD:ETH-250328', 'ETH/USD:ETH-250627']\n"
     ]
    }
   ],
   "source": [
    "looking_for = 'ETH'\n",
    "print([item for item in data.available_symbols if looking_for in item])"
   ]
  },
  {
   "cell_type": "code",
   "execution_count": 11,
   "metadata": {},
   "outputs": [
    {
     "name": "stdout",
     "output_type": "stream",
     "text": [
      "For BTC/USDT:USDT, the limits are {'leverage': {'min': None, 'max': None}, 'amount': {'min': 0.001, 'max': 1000.0}, 'price': {'min': 556.8, 'max': 4529764.0}, 'cost': {'min': 100.0, 'max': None}, 'market': {'min': 0.001, 'max': 120.0}}\n",
      "The smallest accepted position size is ~ 95.39580000000001 (in quote currency)\n",
      "\n",
      "For ETH/USDT:USDT, the limits are {'leverage': {'min': None, 'max': None}, 'amount': {'min': 0.001, 'max': 10000.0}, 'price': {'min': 39.86, 'max': 306177.0}, 'cost': {'min': 20.0, 'max': None}, 'market': {'min': 0.001, 'max': 2000.0}}\n",
      "The smallest accepted position size is ~ 2.6655900000000003 (in quote currency)\n",
      "\n"
     ]
    }
   ],
   "source": [
    "for symbol in pairs:\n",
    "    print(f\"For {symbol}, the limits are {data.fetch_symbol_markets_limits(symbol)}\")\n",
    "    print(f\"The smallest accepted position size is ~ {data.fetch_symbol_markets_limits(symbol)[\"amount\"][\"min\"]*data.fetch_symbol_ticker_info(symbol)[\"close\"]} (in quote currency)\\n\")"
   ]
  },
  {
   "cell_type": "code",
   "execution_count": null,
   "metadata": {},
   "outputs": [],
   "source": []
  }
 ],
 "metadata": {
  "kernelspec": {
   "display_name": "Python 3 (ipykernel)",
   "language": "python",
   "name": "python3"
  },
  "language_info": {
   "codemirror_mode": {
    "name": "ipython",
    "version": 3
   },
   "file_extension": ".py",
   "mimetype": "text/x-python",
   "name": "python",
   "nbconvert_exporter": "python",
   "pygments_lexer": "ipython3",
   "version": "3.12.5"
  }
 },
 "nbformat": 4,
 "nbformat_minor": 4
}
