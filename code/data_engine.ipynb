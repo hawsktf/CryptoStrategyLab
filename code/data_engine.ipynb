{
 "cells": [
  {
   "cell_type": "code",
   "execution_count": 2,
   "metadata": {},
   "outputs": [
    {
     "name": "stdout",
     "output_type": "stream",
     "text": [
      "Defaulting to user installation because normal site-packages is not writeable\n",
      "Requirement already satisfied: alpaca-trade-api in /home/spoonbill/.local/lib/python3.12/site-packages (3.2.0)\n",
      "Requirement already satisfied: pandas>=0.18.1 in /home/spoonbill/.local/lib/python3.12/site-packages (from alpaca-trade-api) (2.1.3)\n",
      "Requirement already satisfied: numpy>=1.11.1 in /home/spoonbill/.local/lib/python3.12/site-packages (from alpaca-trade-api) (1.26.4)\n",
      "Requirement already satisfied: requests<3,>2 in /home/spoonbill/.local/lib/python3.12/site-packages (from alpaca-trade-api) (2.32.3)\n",
      "Requirement already satisfied: urllib3<2,>1.24 in /home/spoonbill/.local/lib/python3.12/site-packages (from alpaca-trade-api) (1.26.20)\n",
      "Requirement already satisfied: websocket-client<2,>=0.56.0 in /usr/local/lib/python3.12/dist-packages (from alpaca-trade-api) (1.8.0)\n",
      "Requirement already satisfied: websockets<11,>=9.0 in /home/spoonbill/.local/lib/python3.12/site-packages (from alpaca-trade-api) (10.4)\n",
      "Requirement already satisfied: msgpack==1.0.3 in /home/spoonbill/.local/lib/python3.12/site-packages (from alpaca-trade-api) (1.0.3)\n",
      "Requirement already satisfied: aiohttp<4,>=3.8.3 in /home/spoonbill/.local/lib/python3.12/site-packages (from alpaca-trade-api) (3.11.12)\n",
      "Requirement already satisfied: PyYAML==6.0.1 in /usr/lib/python3/dist-packages (from alpaca-trade-api) (6.0.1)\n",
      "Requirement already satisfied: deprecation==2.1.0 in /home/spoonbill/.local/lib/python3.12/site-packages (from alpaca-trade-api) (2.1.0)\n",
      "Requirement already satisfied: packaging in /home/spoonbill/.local/lib/python3.12/site-packages (from deprecation==2.1.0->alpaca-trade-api) (24.2)\n",
      "Requirement already satisfied: aiohappyeyeballs>=2.3.0 in /home/spoonbill/.local/lib/python3.12/site-packages (from aiohttp<4,>=3.8.3->alpaca-trade-api) (2.4.6)\n",
      "Requirement already satisfied: aiosignal>=1.1.2 in /home/spoonbill/.local/lib/python3.12/site-packages (from aiohttp<4,>=3.8.3->alpaca-trade-api) (1.3.2)\n",
      "Requirement already satisfied: attrs>=17.3.0 in /usr/lib/python3/dist-packages (from aiohttp<4,>=3.8.3->alpaca-trade-api) (23.2.0)\n",
      "Requirement already satisfied: frozenlist>=1.1.1 in /home/spoonbill/.local/lib/python3.12/site-packages (from aiohttp<4,>=3.8.3->alpaca-trade-api) (1.5.0)\n",
      "Requirement already satisfied: multidict<7.0,>=4.5 in /home/spoonbill/.local/lib/python3.12/site-packages (from aiohttp<4,>=3.8.3->alpaca-trade-api) (6.1.0)\n",
      "Requirement already satisfied: propcache>=0.2.0 in /home/spoonbill/.local/lib/python3.12/site-packages (from aiohttp<4,>=3.8.3->alpaca-trade-api) (0.2.1)\n",
      "Requirement already satisfied: yarl<2.0,>=1.17.0 in /home/spoonbill/.local/lib/python3.12/site-packages (from aiohttp<4,>=3.8.3->alpaca-trade-api) (1.18.3)\n",
      "Requirement already satisfied: python-dateutil>=2.8.2 in /usr/lib/python3/dist-packages (from pandas>=0.18.1->alpaca-trade-api) (2.8.2)\n",
      "Requirement already satisfied: pytz>=2020.1 in /usr/lib/python3/dist-packages (from pandas>=0.18.1->alpaca-trade-api) (2024.1)\n",
      "Requirement already satisfied: tzdata>=2022.1 in /home/spoonbill/.local/lib/python3.12/site-packages (from pandas>=0.18.1->alpaca-trade-api) (2024.2)\n",
      "Requirement already satisfied: charset-normalizer<4,>=2 in /home/spoonbill/.local/lib/python3.12/site-packages (from requests<3,>2->alpaca-trade-api) (3.4.1)\n",
      "Requirement already satisfied: idna<4,>=2.5 in /home/spoonbill/.local/lib/python3.12/site-packages (from requests<3,>2->alpaca-trade-api) (3.10)\n",
      "Requirement already satisfied: certifi>=2017.4.17 in /home/spoonbill/.local/lib/python3.12/site-packages (from requests<3,>2->alpaca-trade-api) (2025.1.31)\n",
      "Defaulting to user installation because normal site-packages is not writeable\n",
      "Collecting alpaca-py\n",
      "  Downloading alpaca_py-0.42.0-py3-none-any.whl.metadata (13 kB)\n",
      "Requirement already satisfied: msgpack<2.0.0,>=1.0.3 in /home/spoonbill/.local/lib/python3.12/site-packages (from alpaca-py) (1.0.3)\n",
      "Requirement already satisfied: pandas>=1.5.3 in /home/spoonbill/.local/lib/python3.12/site-packages (from alpaca-py) (2.1.3)\n",
      "Collecting pydantic<3.0.0,>=2.0.3 (from alpaca-py)\n",
      "  Downloading pydantic-2.11.7-py3-none-any.whl.metadata (67 kB)\n",
      "\u001b[2K     \u001b[38;2;114;156;31m━━━━━━━━━━━━━━━━━━━━━━━━━━━━━━━━━━━━━━━━\u001b[0m \u001b[32m68.0/68.0 kB\u001b[0m \u001b[31m1.9 MB/s\u001b[0m eta \u001b[36m0:00:00\u001b[0m\n",
      "\u001b[?25hRequirement already satisfied: requests<3.0.0,>=2.30.0 in /home/spoonbill/.local/lib/python3.12/site-packages (from alpaca-py) (2.32.3)\n",
      "Collecting sseclient-py<2.0.0,>=1.7.2 (from alpaca-py)\n",
      "  Downloading sseclient_py-1.8.0-py2.py3-none-any.whl.metadata (2.0 kB)\n",
      "Requirement already satisfied: websockets>=10.4 in /home/spoonbill/.local/lib/python3.12/site-packages (from alpaca-py) (10.4)\n",
      "Requirement already satisfied: numpy<2,>=1.26.0 in /home/spoonbill/.local/lib/python3.12/site-packages (from pandas>=1.5.3->alpaca-py) (1.26.4)\n",
      "Requirement already satisfied: python-dateutil>=2.8.2 in /usr/lib/python3/dist-packages (from pandas>=1.5.3->alpaca-py) (2.8.2)\n",
      "Requirement already satisfied: pytz>=2020.1 in /usr/lib/python3/dist-packages (from pandas>=1.5.3->alpaca-py) (2024.1)\n",
      "Requirement already satisfied: tzdata>=2022.1 in /home/spoonbill/.local/lib/python3.12/site-packages (from pandas>=1.5.3->alpaca-py) (2024.2)\n",
      "Collecting annotated-types>=0.6.0 (from pydantic<3.0.0,>=2.0.3->alpaca-py)\n",
      "  Using cached annotated_types-0.7.0-py3-none-any.whl.metadata (15 kB)\n",
      "Collecting pydantic-core==2.33.2 (from pydantic<3.0.0,>=2.0.3->alpaca-py)\n",
      "  Downloading pydantic_core-2.33.2-cp312-cp312-manylinux_2_17_x86_64.manylinux2014_x86_64.whl.metadata (6.8 kB)\n",
      "Collecting typing-extensions>=4.12.2 (from pydantic<3.0.0,>=2.0.3->alpaca-py)\n",
      "  Downloading typing_extensions-4.14.1-py3-none-any.whl.metadata (3.0 kB)\n",
      "Collecting typing-inspection>=0.4.0 (from pydantic<3.0.0,>=2.0.3->alpaca-py)\n",
      "  Downloading typing_inspection-0.4.1-py3-none-any.whl.metadata (2.6 kB)\n",
      "Requirement already satisfied: charset-normalizer<4,>=2 in /home/spoonbill/.local/lib/python3.12/site-packages (from requests<3.0.0,>=2.30.0->alpaca-py) (3.4.1)\n",
      "Requirement already satisfied: idna<4,>=2.5 in /home/spoonbill/.local/lib/python3.12/site-packages (from requests<3.0.0,>=2.30.0->alpaca-py) (3.10)\n",
      "Requirement already satisfied: urllib3<3,>=1.21.1 in /home/spoonbill/.local/lib/python3.12/site-packages (from requests<3.0.0,>=2.30.0->alpaca-py) (1.26.20)\n",
      "Requirement already satisfied: certifi>=2017.4.17 in /home/spoonbill/.local/lib/python3.12/site-packages (from requests<3.0.0,>=2.30.0->alpaca-py) (2025.1.31)\n",
      "Downloading alpaca_py-0.42.0-py3-none-any.whl (121 kB)\n",
      "\u001b[2K   \u001b[38;2;114;156;31m━━━━━━━━━━━━━━━━━━━━━━━━━━━━━━━━━━━━━━━━\u001b[0m \u001b[32m122.0/122.0 kB\u001b[0m \u001b[31m5.4 MB/s\u001b[0m eta \u001b[36m0:00:00\u001b[0m\n",
      "\u001b[?25hDownloading pydantic-2.11.7-py3-none-any.whl (444 kB)\n",
      "\u001b[2K   \u001b[38;2;114;156;31m━━━━━━━━━━━━━━━━━━━━━━━━━━━━━━━━━━━━━━━━\u001b[0m \u001b[32m444.8/444.8 kB\u001b[0m \u001b[31m5.8 MB/s\u001b[0m eta \u001b[36m0:00:00\u001b[0mm eta \u001b[36m0:00:01\u001b[0m0:01\u001b[0m\n",
      "\u001b[?25hDownloading pydantic_core-2.33.2-cp312-cp312-manylinux_2_17_x86_64.manylinux2014_x86_64.whl (2.0 MB)\n",
      "\u001b[2K   \u001b[38;2;114;156;31m━━━━━━━━━━━━━━━━━━━━━━━━━━━━━━━━━━━━━━━━\u001b[0m \u001b[32m2.0/2.0 MB\u001b[0m \u001b[31m6.5 MB/s\u001b[0m eta \u001b[36m0:00:00\u001b[0mm eta \u001b[36m0:00:01\u001b[0m0:01\u001b[0m\n",
      "\u001b[?25hDownloading sseclient_py-1.8.0-py2.py3-none-any.whl (8.8 kB)\n",
      "Using cached annotated_types-0.7.0-py3-none-any.whl (13 kB)\n",
      "Downloading typing_extensions-4.14.1-py3-none-any.whl (43 kB)\n",
      "\u001b[2K   \u001b[38;2;114;156;31m━━━━━━━━━━━━━━━━━━━━━━━━━━━━━━━━━━━━━━━━\u001b[0m \u001b[32m43.9/43.9 kB\u001b[0m \u001b[31m2.9 MB/s\u001b[0m eta \u001b[36m0:00:00\u001b[0m\n",
      "\u001b[?25hDownloading typing_inspection-0.4.1-py3-none-any.whl (14 kB)\n",
      "Installing collected packages: sseclient-py, typing-extensions, annotated-types, typing-inspection, pydantic-core, pydantic, alpaca-py\n",
      "\u001b[31mERROR: pip's dependency resolver does not currently take into account all the packages that are installed. This behaviour is the source of the following dependency conflicts.\n",
      "openai 1.12.0 requires tqdm>4, but you have tqdm 0.0.0 which is incompatible.\u001b[0m\u001b[31m\n",
      "\u001b[0mSuccessfully installed alpaca-py-0.42.0 annotated-types-0.7.0 pydantic-2.11.7 pydantic-core-2.33.2 sseclient-py-1.8.0 typing-extensions-4.14.1 typing-inspection-0.4.1\n",
      "Note: you may need to restart the kernel to use updated packages.\n"
     ]
    }
   ],
   "source": [
    "pip install alpaca-trade-api --break-system-packages && pip install alpaca-py --break-system-packages"
   ]
  },
  {
   "cell_type": "code",
   "execution_count": 3,
   "metadata": {},
   "outputs": [],
   "source": [
    "from utilities.data_manager import DataManager"
   ]
  },
  {
   "cell_type": "code",
   "execution_count": 8,
   "metadata": {},
   "outputs": [],
   "source": [
    "# Dataset to Download\n",
    "exchange = \"binance\" # \"bitget\" (binance requires non-US IP Address)\n",
    "timeframe = \"1h\"\n",
    "pairs = [\n",
    "     \"BTC/USDT\",\n",
    "    # \"BTC/USDT:USDT\",\n",
    "    #\"ETH/USDT:USDT\",\n",
    "]\n",
    "start_date = \"2017-01-01 00:00:00\"\n",
    "end_date = \"2025-08-13 00:00:00\""
   ]
  },
  {
   "cell_type": "code",
   "execution_count": 7,
   "metadata": {},
   "outputs": [
    {
     "name": "stdout",
     "output_type": "stream",
     "text": [
      "fetched binance ohlcv data for BTC/USDT from 2017-09-28 09:00:00\n",
      "fetched binance ohlcv data for BTC/USDT from 2017-11-09 01:00:00\n",
      "fetched binance ohlcv data for BTC/USDT from 2017-12-20 17:00:00\n",
      "fetched binance ohlcv data for BTC/USDT from 2018-01-31 10:00:00\n",
      "fetched binance ohlcv data for BTC/USDT from 2018-03-15 11:00:00\n",
      "fetched binance ohlcv data for BTC/USDT from 2018-04-26 03:00:00\n",
      "fetched binance ohlcv data for BTC/USDT from 2018-06-06 19:00:00\n",
      "fetched binance ohlcv data for BTC/USDT from 2018-07-19 05:00:00\n",
      "fetched binance ohlcv data for BTC/USDT from 2018-08-29 21:00:00\n",
      "fetched binance ohlcv data for BTC/USDT from 2018-10-10 13:00:00\n",
      "fetched binance ohlcv data for BTC/USDT from 2018-11-21 15:00:00\n",
      "fetched binance ohlcv data for BTC/USDT from 2019-01-02 07:00:00\n",
      "fetched binance ohlcv data for BTC/USDT from 2019-02-12 23:00:00\n",
      "fetched binance ohlcv data for BTC/USDT from 2019-03-26 21:00:00\n",
      "fetched binance ohlcv data for BTC/USDT from 2019-05-07 13:00:00\n",
      "fetched binance ohlcv data for BTC/USDT from 2019-06-18 15:00:00\n",
      "fetched binance ohlcv data for BTC/USDT from 2019-07-30 07:00:00\n",
      "fetched binance ohlcv data for BTC/USDT from 2019-09-10 07:00:00\n",
      "fetched binance ohlcv data for BTC/USDT from 2019-10-21 23:00:00\n",
      "fetched binance ohlcv data for BTC/USDT from 2019-12-02 19:00:00\n",
      "fetched binance ohlcv data for BTC/USDT from 2020-01-13 11:00:00\n",
      "fetched binance ohlcv data for BTC/USDT from 2020-02-24 09:00:00\n",
      "fetched binance ohlcv data for BTC/USDT from 2020-04-06 02:00:00\n",
      "fetched binance ohlcv data for BTC/USDT from 2020-05-17 20:00:00\n",
      "fetched binance ohlcv data for BTC/USDT from 2020-06-28 15:00:00\n",
      "fetched binance ohlcv data for BTC/USDT from 2020-08-09 07:00:00\n",
      "fetched binance ohlcv data for BTC/USDT from 2020-09-19 23:00:00\n",
      "fetched binance ohlcv data for BTC/USDT from 2020-10-31 15:00:00\n",
      "fetched binance ohlcv data for BTC/USDT from 2020-12-12 08:00:00\n",
      "fetched binance ohlcv data for BTC/USDT from 2021-01-23 05:00:00\n",
      "fetched binance ohlcv data for BTC/USDT from 2021-03-05 22:00:00\n",
      "fetched binance ohlcv data for BTC/USDT from 2021-04-16 15:00:00\n",
      "fetched binance ohlcv data for BTC/USDT from 2021-05-28 12:00:00\n",
      "fetched binance ohlcv data for BTC/USDT from 2021-07-09 04:00:00\n",
      "fetched binance ohlcv data for BTC/USDT from 2021-08-20 00:00:00\n",
      "fetched binance ohlcv data for BTC/USDT from 2021-09-30 18:00:00\n",
      "fetched binance ohlcv data for BTC/USDT from 2021-11-11 10:00:00\n",
      "fetched binance ohlcv data for BTC/USDT from 2021-12-23 02:00:00\n",
      "fetched binance ohlcv data for BTC/USDT from 2022-02-02 18:00:00\n",
      "fetched binance ohlcv data for BTC/USDT from 2022-03-16 10:00:00\n",
      "fetched binance ohlcv data for BTC/USDT from 2022-04-27 02:00:00\n",
      "fetched binance ohlcv data for BTC/USDT from 2022-06-07 18:00:00\n",
      "fetched binance ohlcv data for BTC/USDT from 2022-07-19 10:00:00\n",
      "fetched binance ohlcv data for BTC/USDT from 2022-08-30 02:00:00\n",
      "fetched binance ohlcv data for BTC/USDT from 2022-10-10 18:00:00\n",
      "fetched binance ohlcv data for BTC/USDT from 2022-11-21 10:00:00\n",
      "fetched binance ohlcv data for BTC/USDT from 2023-01-02 02:00:00\n",
      "fetched binance ohlcv data for BTC/USDT from 2023-02-12 18:00:00\n",
      "fetched binance ohlcv data for BTC/USDT from 2023-03-26 11:00:00\n",
      "fetched binance ohlcv data for BTC/USDT from 2023-05-07 03:00:00\n",
      "fetched binance ohlcv data for BTC/USDT from 2023-06-17 19:00:00\n",
      "fetched binance ohlcv data for BTC/USDT from 2023-07-29 11:00:00\n",
      "fetched binance ohlcv data for BTC/USDT from 2023-09-09 03:00:00\n",
      "fetched binance ohlcv data for BTC/USDT from 2023-10-20 19:00:00\n",
      "fetched binance ohlcv data for BTC/USDT from 2023-12-01 11:00:00\n",
      "fetched binance ohlcv data for BTC/USDT from 2024-01-12 03:00:00\n",
      "fetched binance ohlcv data for BTC/USDT from 2024-02-22 19:00:00\n",
      "fetched binance ohlcv data for BTC/USDT from 2024-04-04 11:00:00\n",
      "fetched binance ohlcv data for BTC/USDT from 2024-05-16 03:00:00\n",
      "fetched binance ohlcv data for BTC/USDT from 2024-06-26 19:00:00\n",
      "fetched binance ohlcv data for BTC/USDT from 2024-08-07 11:00:00\n",
      "fetched binance ohlcv data for BTC/USDT from 2024-09-18 03:00:00\n",
      "fetched binance ohlcv data for BTC/USDT from 2024-10-29 19:00:00\n",
      "fetched binance ohlcv data for BTC/USDT from 2024-12-10 11:00:00\n",
      "fetched binance ohlcv data for BTC/USDT from 2025-01-21 03:00:00\n",
      "fetched binance ohlcv data for BTC/USDT from 2025-03-03 19:00:00\n",
      "fetched binance ohlcv data for BTC/USDT from 2025-04-14 11:00:00\n",
      "fetched binance ohlcv data for BTC/USDT from 2025-05-26 03:00:00\n",
      "fetched binance ohlcv data for BTC/USDT from 2025-07-06 19:00:00\n",
      "fetched binance ohlcv data for BTC/USDT from 2025-08-16 09:00:00\n",
      "Saved 69973 new rows to BTC-USDT.csv\n"
     ]
    }
   ],
   "source": [
    "data = DataManager(name=exchange, path=\"../data\")\n",
    "\n",
    "for pair in pairs:\n",
    "    data.download(pair, timeframe, start_date, end_date)"
   ]
  },
  {
   "cell_type": "code",
   "execution_count": null,
   "metadata": {},
   "outputs": [],
   "source": [
    "for pair in pairs:\n",
    "    ohlcv = data.load(pair, timeframe, start_date, end_date) #\"2025-01-01 00:00:00\", end_date=\"2025-02-18 00:00:00\")\n",
    "    print(f\"{pair} \\n {ohlcv} \\n\")"
   ]
  },
  {
   "cell_type": "code",
   "execution_count": 17,
   "metadata": {},
   "outputs": [
    {
     "name": "stdout",
     "output_type": "stream",
     "text": [
      "['ETH/BTC', 'LTC/BTC', 'BNB/BTC', 'NEO/BTC', 'BCC/BTC', 'GAS/BTC', 'BTC/USDT', 'HSR/BTC', 'MCO/BTC', 'WTC/BTC', 'LRC/BTC', 'QTUM/BTC', 'YOYOW/BTC', 'OMG/BTC', 'ZRX/BTC', 'STRAT/BTC', 'SNGLS/BTC', 'BQX/BTC', 'KNC/BTC', 'FUN/BTC', 'SNM/BTC', 'IOTA/BTC', 'LINK/BTC', 'XVG/BTC', 'SALT/BTC', 'MDA/BTC', 'MTL/BTC', 'SUB/BTC', 'EOS/BTC', 'SNT/BTC', 'ETC/BTC', 'MTH/BTC', 'ENG/BTC', 'DNT/BTC', 'ZEC/BTC', 'BNT/BTC', 'AST/BTC', 'DASH/BTC', 'OAX/BTC', 'ICN/BTC', 'BTG/BTC', 'EVX/BTC', 'REQ/BTC', 'VIB/BTC', 'TRX/BTC', 'POWR/BTC', 'ARK/BTC', 'XRP/BTC', 'MOD/BTC', 'ENJ/BTC', 'STORJ/BTC', 'VEN/BTC', 'KMD/BTC', 'RCN/BTC', 'NULS/BTC', 'RDN/BTC', 'XMR/BTC', 'DLT/BTC', 'AMB/BTC', 'BAT/BTC', 'BCPT/BTC', 'ARN/BTC', 'GVT/BTC', 'CDT/BTC', 'GXS/BTC', 'POE/BTC', 'QSP/BTC', 'BTS/BTC', 'XZC/BTC', 'LSK/BTC', 'TNT/BTC', 'FUEL/BTC', 'MANA/BTC', 'BCD/BTC', 'DGD/BTC', 'ADX/BTC', 'ADA/BTC', 'PPT/BTC', 'CMT/BTC', 'XLM/BTC', 'CND/BTC', 'LEND/BTC', 'WABI/BTC', 'TNB/BTC', 'WAVES/BTC', 'GTO/BTC', 'ICX/BTC', 'OST/BTC', 'ELF/BTC', 'AION/BTC', 'NEBL/BTC', 'BRD/BTC', 'EDO/BTC', 'WINGS/BTC', 'NAV/BTC', 'LUN/BTC', 'TRIG/BTC', 'APPC/BTC', 'VIBE/BTC', 'RLC/BTC', 'INS/BTC', 'PIVX/BTC', 'IOST/BTC', 'CHAT/BTC', 'STEEM/BTC', 'NANO/BTC', 'VIA/BTC', 'BLZ/BTC', 'AE/BTC', 'RPX/BTC', 'NCASH/BTC', 'POA/BTC', 'ZIL/BTC', 'ONT/BTC', 'STORM/BTC', 'XEM/BTC', 'WAN/BTC', 'WPR/BTC', 'QLC/BTC', 'SYS/BTC', 'GRS/BTC', 'CLOAK/BTC', 'GNT/BTC', 'LOOM/BTC', 'BCN/BTC', 'REP/BTC', 'BTC/TUSD', 'TUSD/BTC', 'ZEN/BTC', 'OLDSKY/BTC', 'CVC/BTC', 'THETA/BTC', 'IOTX/BTC', 'QKC/BTC', 'AGI/BTC', 'NXS/BTC', 'DATA/BTC', 'SC/BTC', 'NPXS/BTC', 'KEY/BTC', 'NAS/BTC', 'MFT/BTC', 'DENT/BTC', 'ARDR/BTC', 'HOT/BTC', 'VET/BTC', 'DOCK/BTC', 'POLY/BTC', 'PHX/BTC', 'HC/BTC', 'GO/BTC', 'PAX/BTC', 'RVN/BTC', 'DCR/BTC', 'MITH/BTC', 'BCHABC/BTC', 'BSV/BTC', 'BTC/PAX', 'REN/BTC', 'BTC/USDC', 'BTT/BTC', 'BTC/USDS', 'ONG/BTC', 'FET/BTC', 'CELR/BTC', 'MATIC/BTC', 'ATOM/BTC', 'PHB/BTC', 'TFUEL/BTC', 'ONE/BTC', 'FTM/BTC', 'BTCB/BTC', 'ALGO/BTC', 'ERD/BTC', 'DOGE/BTC', 'DUSK/BTC', 'ANKR/BTC', 'WIN/BTC', 'COS/BTC', 'COCOS/BTC', 'TOMO/BTC', 'PERL/BTC', 'CHZ/BTC', 'BAND/BTC', 'BTC/BUSD', 'BEAM/BTC', 'XTZ/BTC', 'HBAR/BTC', 'NKN/BTC', 'STX/BTC', 'KAVA/BTC', 'BTC/NGN', 'ARPA/BTC', 'CTXC/BTC', 'BCH/BTC', 'BTC/RUB', 'TROY/BTC', 'VITE/BTC', 'FTT/BTC', 'BTC/TRY', 'BTC/EUR', 'OGN/BTC', 'DREP/BTC', 'TCT/BTC', 'WRX/BTC', 'LTO/BTC', 'MBL/BTC', 'COTI/BTC', 'STPT/BTC', 'BTC/ZAR', 'BTC/BKRW', 'SOL/BTC', 'BTC/IDRT', 'CTSI/BTC', 'HIVE/BTC', 'CHR/BTC', 'BTCUP/USDT', 'BTCDOWN/USDT', 'MDT/BTC', 'STMX/BTC', 'PNT/BTC', 'BTC/GBP', 'DGB/BTC', 'BTC/UAH', 'COMP/BTC', 'BTC/BIDR', 'SXP/BTC', 'SNX/BTC', 'IRIS/BTC', 'MKR/BTC', 'DAI/BTC', 'RUNE/BTC', 'BTC/AUD', 'FIO/BTC', 'AVA/BTC', 'BAL/BTC', 'YFI/BTC', 'BTC/DAI', 'JST/BTC', 'SRM/BTC', 'ANT/BTC', 'CRV/BTC', 'SAND/BTC', 'OCEAN/BTC', 'NMR/BTC', 'DOT/BTC', 'LUNA/BTC', 'IDEX/BTC', 'RSR/BTC', 'PAXG/BTC', 'WNXM/BTC', 'TRB/BTC', 'BZRX/BTC', 'WBTC/BTC', 'WBTC/ETH', 'SUSHI/BTC', 'YFII/BTC', 'KSM/BTC', 'EGLD/BTC', 'DIA/BTC', 'UMA/BTC', 'BEL/BTC', 'WING/BTC', 'UNI/BTC', 'NBS/BTC', 'OXT/BTC', 'SUN/BTC', 'AVAX/BTC', 'HNT/BTC', 'FLM/BTC', 'SCRT/BTC', 'ORN/BTC', 'UTK/BTC', 'XVS/BTC', 'ALPHA/BTC', 'VIDT/BTC', 'BTC/BRL', 'AAVE/BTC', 'NEAR/BTC', 'FIL/BTC', 'INJ/BTC', 'AERGO/BTC', 'AUDIO/BTC', 'CTK/BTC', 'BOT/BTC', 'AKRO/BTC', 'AXS/BTC', 'HARD/BTC', 'RENBTC/BTC', 'RENBTC/ETH', 'STRAX/BTC', 'FOR/BTC', 'UNFI/BTC', 'ROSE/BTC', 'SKL/BTC', 'SUSD/BTC', 'GLM/BTC', 'GRT/BTC', 'JUV/BTC', 'PSG/BTC', '1INCH/BTC', 'REEF/BTC', 'OG/BTC', 'ATM/BTC', 'ASR/BTC', 'CELO/BTC', 'RIF/BTC', 'BTCST/BTC', 'BTCST/BUSD', 'BTCST/USDT', 'TRU/BTC', 'CKB/BTC', 'TWT/BTC', 'FIRO/BTC', 'LIT/BTC', 'BTC/VAI', 'SFP/BTC', 'FXS/BTC', 'DODO/BTC', 'FRONT/BTC', 'EASY/BTC', 'CAKE/BTC', 'ACM/BTC', 'AUCTION/BTC', 'PHA/BTC', 'TVK/BTC', 'BADGER/BTC', 'FIS/BTC', 'OM/BTC', 'POND/BTC', 'DEGO/BTC', 'ALICE/BTC', 'LINA/BTC', 'PERP/BTC', 'RAMP/BTC', 'SUPER/BTC', 'CFX/BTC', 'EPS/BTC', 'AUTO/BTC', 'TKO/BTC', 'TLM/BTC', 'MIR/BTC', 'BAR/BTC', 'FORTH/BTC', 'EZ/BTC', 'ICP/BTC', 'AR/BTC', 'POLS/BTC', 'MDX/BTC', 'LPT/BTC', 'AGIX/BTC', 'NU/BTC', 'ATA/BTC', 'GTC/BTC', 'TORN/BTC', 'BAKE/BTC', 'KEEP/BTC', 'KLAY/BTC', 'BOND/BTC', 'MLN/BTC', 'QUICK/BTC', 'C98/BTC', 'CLV/BTC', 'QNT/BTC', 'FLOW/BTC', 'MINA/BTC', 'FARM/BTC', 'ALPACA/BTC', 'MBOX/BTC', 'VGX/BTC', 'WAXP/BTC', 'TRIBE/BTC', 'GNO/BTC', 'PROM/BTC', 'DYDX/BTC', 'BTC/USDP', 'GALA/BTC', 'ILV/BTC', 'YGG/BTC', 'FIDA/BTC', 'AGLD/BTC', 'RAD/BTC', 'BETA/BTC', 'RARE/BTC', 'SSV/BTC', 'LAZIO/BTC', 'CHESS/BTC', 'DAR/BTC', 'BNX/BTC', 'RGT/BTC', 'MOVR/BTC', 'CITY/BTC', 'ENS/BTC', 'QI/BTC', 'PORTO/BTC', 'JASMY/BTC', 'AMP/BTC', 'PLA/BTC', 'PYR/BTC', 'RNDR/BTC', 'ALCX/BTC', 'SANTOS/BTC', 'MC/BTC', 'ANY/BTC', 'BICO/BTC', 'FLUX/BTC', 'VOXEL/BTC', 'HIGH/BTC', 'CVX/BTC', 'PEOPLE/BTC', 'SPELL/BTC', 'UST/BTC', 'JOE/BTC', 'ACH/BTC', 'IMX/BTC', 'GLMR/BTC', 'LOKA/BTC', 'API3/BTC', 'ACA/BTC', 'ANC/BTC', 'XNO/BTC', 'WOO/BTC', 'ALPINE/BTC', 'GMT/BTC', 'KDA/BTC', 'APE/BTC', 'MULTI/BTC', 'BTC/UST', 'ASTR/BTC', 'MOB/BTC', 'NEXO/BTC', 'GAL/BTC', 'LDO/BTC', 'OP/BTC', 'WBTC/BUSD', 'STG/BTC', 'GMX/BTC', 'POLYX/BTC', 'APT/BTC', 'BTC/PLN', 'OSMO/BTC', 'HFT/BTC', 'HOOK/BTC', 'MAGIC/BTC', 'RPL/BTC', 'BTC/RON', 'GNS/BTC', 'SYN/BTC', 'LQTY/BTC', 'ID/BTC', 'ARB/BTC', 'RDNT/BTC', 'WBTC/USDT', 'EDU/BTC', 'SUI/BTC', 'BTC/ARS', 'MAV/BTC', 'PENDLE/BTC', 'ARKM/BTC', 'WLD/BTC', 'BTC/FDUSD', 'SEI/BTC', 'CYBER/BTC', 'NTRN/BTC', 'TIA/BTC', 'ORDI/BTC', 'VIC/BTC', 'BLUR/BTC', 'VANRY/BTC', 'BTC/AEUR', 'ACE/BTC', 'NFP/BTC', 'AI/BTC', 'XAI/BTC', 'MANTA/BTC', 'ALT/BTC', 'PYTH/BTC', 'RONIN/BTC', 'DYM/BTC', 'PIXEL/BTC', 'STRK/BTC', 'PORTAL/BTC', 'PDA/BTC', 'AXL/BTC', 'WIF/BTC', 'METIS/BTC', 'BTC/JPY', 'AEVO/BTC', 'BOME/BTC', 'ETHFI/BTC', 'ENA/BTC', 'W/BTC', 'TNSR/BTC', 'SAGA/BTC', 'TAO/BTC', 'OMNI/BTC', 'REZ/BTC', 'BB/BTC', 'BTC/MXN', 'IO/BTC', 'ZK/BTC', 'ZRO/BTC', 'BANANA/BTC', 'RENDER/BTC', 'TON/BTC', 'SLF/BTC', 'POL/BTC', 'BTC/EURI', 'EIGEN/BTC', 'SCR/BTC', 'PNUT/BTC', 'THE/BTC', 'MOVE/BTC', 'ME/BTC', 'USUAL/BTC', 'S/BTC', 'BERA/BTC', 'LAYER/BTC', 'HEI/BTC', 'KAITO/BTC', 'SHELL/BTC', 'RED/BTC', 'AWE/BTC', 'A/BTC', 'BTC/USDT:USDT', 'BTCST/USDT:USDT', 'BTCDOM/USDT:USDT', 'ETH/BTC:BTC', 'BTC/USDC:USDC', 'BTC/USDT:USDT-250926', 'PUMPBTC/USDT:USDT', 'BTC/USDT:USDT-251226', 'BTC/USD:BTC', 'BTC/USD:BTC-250926', 'BTC/USD:BTC-251226']\n"
     ]
    }
   ],
   "source": [
    "looking_for = 'BTC'\n",
    "print([item for item in data.available_symbols if looking_for in item])"
   ]
  },
  {
   "cell_type": "code",
   "execution_count": 18,
   "metadata": {},
   "outputs": [
    {
     "name": "stdout",
     "output_type": "stream",
     "text": [
      "For BTC/USDT, the limits are {'leverage': {'min': None, 'max': None}, 'amount': {'min': 1e-05, 'max': 9000.0}, 'price': {'min': 0.01, 'max': 1000000.0}, 'cost': {'min': 5.0, 'max': 9000000.0}, 'market': {'min': 0.0, 'max': 89.94205069}}\n",
      "The smallest accepted position size is ~ 1.2332794 (in quote currency)\n",
      "\n"
     ]
    }
   ],
   "source": [
    "for symbol in pairs:\n",
    "    print(f\"For {symbol}, the limits are {data.fetch_symbol_markets_limits(symbol)}\")\n",
    "    print(f\"The smallest accepted position size is ~ {data.fetch_symbol_markets_limits(symbol)[\"amount\"][\"min\"]*data.fetch_symbol_ticker_info(symbol)[\"close\"]} (in quote currency)\\n\")"
   ]
  },
  {
   "cell_type": "code",
   "execution_count": null,
   "metadata": {},
   "outputs": [],
   "source": []
  },
  {
   "cell_type": "code",
   "execution_count": null,
   "metadata": {},
   "outputs": [],
   "source": []
  }
 ],
 "metadata": {
  "kernelspec": {
   "display_name": "Python 3 (ipykernel)",
   "language": "python",
   "name": "python3"
  },
  "language_info": {
   "codemirror_mode": {
    "name": "ipython",
    "version": 3
   },
   "file_extension": ".py",
   "mimetype": "text/x-python",
   "name": "python",
   "nbconvert_exporter": "python",
   "pygments_lexer": "ipython3",
   "version": "3.12.3"
  }
 },
 "nbformat": 4,
 "nbformat_minor": 4
}
