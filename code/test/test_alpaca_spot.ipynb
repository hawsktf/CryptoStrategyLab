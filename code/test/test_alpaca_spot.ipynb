{
 "cells": [
  {
   "cell_type": "code",
   "execution_count": 1,
   "id": "69aa272d-78e3-4e0c-a7c5-ce4076faf69e",
   "metadata": {},
   "outputs": [],
   "source": [
    "# Add the 'interfaces' directory to the Python path so we can import alpaca_spot.py\n",
    "import sys\n",
    "sys.path.append('../interfaces')\n",
    "\n",
    "# Import the AlpacaSpot wrapper class\n",
    "from alpaca_spot import AlpacaSpot\n",
    "\n",
    "# Initialize the AlpacaSpot client using credentials from config.py\n",
    "alpaca = AlpacaSpot()\n",
    "\n",
    "# Set the symbol and timeframe to use for testing\n",
    "symbol = \"ETH/USD\"\n",
    "timeframe = \"1h\"\n",
    "amount = 0.0001"
   ]
  },
  {
   "cell_type": "code",
   "execution_count": 2,
   "id": "42af27ae-d620-455a-aa2a-d3895b61cf38",
   "metadata": {},
   "outputs": [
    {
     "name": "stdout",
     "output_type": "stream",
     "text": [
      "Ticker for ETH/USD: {'symbol': 'ETH/USD', 'price': 4408.63}\n"
     ]
    }
   ],
   "source": [
    "# Fetch the latest traded price for the selected symbol\n",
    "ticker = alpaca.fetch_ticker(symbol)\n",
    "print(f\"Ticker for {symbol}: {ticker}\")"
   ]
  },
  {
   "cell_type": "code",
   "execution_count": 3,
   "id": "18ac454f-17ed-48d2-8b4e-3daab42fb7b0",
   "metadata": {},
   "outputs": [
    {
     "name": "stdout",
     "output_type": "stream",
     "text": [
      "Balance:\n"
     ]
    },
    {
     "data": {
      "text/plain": [
       "{'USD': {'total': 92664.9},\n",
       " 'AAAU': {'total': 32.975},\n",
       " 'AFL': {'total': 105.38},\n",
       " 'AON': {'total': 367.01},\n",
       " 'BNDX': {'total': 49.14},\n",
       " 'BTCUSD': {'total': 31819.953117},\n",
       " 'HCA': {'total': 395.79},\n",
       " 'KMX': {'total': 57.76},\n",
       " 'ORCL': {'total': 248.28},\n",
       " 'ORLY': {'total': 101.54},\n",
       " 'PSLV': {'total': 12.9},\n",
       " 'ROST': {'total': 146.94},\n",
       " 'TJX': {'total': 132.62},\n",
       " 'URA': {'total': 39.01},\n",
       " 'VRSK': {'total': 267.86},\n",
       " 'ZTS': {'total': 154.11}}"
      ]
     },
     "execution_count": 3,
     "metadata": {},
     "output_type": "execute_result"
    }
   ],
   "source": [
    "# Retrieve the cash balance and any open positions\n",
    "balance = alpaca.fetch_balance()\n",
    "print(\"Balance:\")\n",
    "balance"
   ]
  },
  {
   "cell_type": "code",
   "execution_count": 4,
   "id": "1085765e-5e58-450a-96bc-a4e125b4e5be",
   "metadata": {},
   "outputs": [
    {
     "name": "stdout",
     "output_type": "stream",
     "text": [
      "Latest OHLCV data:\n"
     ]
    },
    {
     "data": {
      "text/html": [
       "<div>\n",
       "<style scoped>\n",
       "    .dataframe tbody tr th:only-of-type {\n",
       "        vertical-align: middle;\n",
       "    }\n",
       "\n",
       "    .dataframe tbody tr th {\n",
       "        vertical-align: top;\n",
       "    }\n",
       "\n",
       "    .dataframe thead th {\n",
       "        text-align: right;\n",
       "    }\n",
       "</style>\n",
       "<table border=\"1\" class=\"dataframe\">\n",
       "  <thead>\n",
       "    <tr style=\"text-align: right;\">\n",
       "      <th></th>\n",
       "      <th>open</th>\n",
       "      <th>high</th>\n",
       "      <th>low</th>\n",
       "      <th>close</th>\n",
       "      <th>volume</th>\n",
       "    </tr>\n",
       "    <tr>\n",
       "      <th>timestamp</th>\n",
       "      <th></th>\n",
       "      <th></th>\n",
       "      <th></th>\n",
       "      <th></th>\n",
       "      <th></th>\n",
       "    </tr>\n",
       "  </thead>\n",
       "  <tbody>\n",
       "    <tr>\n",
       "      <th>2025-08-16 10:00:00+00:00</th>\n",
       "      <td>4404.715</td>\n",
       "      <td>4416.585</td>\n",
       "      <td>4378.255</td>\n",
       "      <td>4405.995</td>\n",
       "      <td>3.554821</td>\n",
       "    </tr>\n",
       "  </tbody>\n",
       "</table>\n",
       "</div>"
      ],
      "text/plain": [
       "                               open      high       low     close    volume\n",
       "timestamp                                                                  \n",
       "2025-08-16 10:00:00+00:00  4404.715  4416.585  4378.255  4405.995  3.554821"
      ]
     },
     "execution_count": 4,
     "metadata": {},
     "output_type": "execute_result"
    }
   ],
   "source": [
    "# Retrieve the most recent candlestick (OHLCV) data for the symbol and timeframe\n",
    "ohlcv = alpaca.fetch_recent_ohlcv(symbol, timeframe, limit=20)\n",
    "print(\"Latest OHLCV data:\")\n",
    "ohlcv.tail()"
   ]
  },
  {
   "cell_type": "code",
   "execution_count": 5,
   "id": "4c33dad0-b218-4f93-8dcd-28622b0f9991",
   "metadata": {},
   "outputs": [
    {
     "name": "stdout",
     "output_type": "stream",
     "text": [
      "All open orders for ETH/USD cancelled.\n"
     ]
    }
   ],
   "source": [
    "# Cancel any existing open orders for this symbol (cleanup before testing)\n",
    "alpaca.cancel_all_orders(symbol)\n",
    "print(f\"All open orders for {symbol} cancelled.\")"
   ]
  },
  {
   "cell_type": "code",
   "execution_count": 6,
   "id": "6284cf74-d4df-4eab-8cfd-4fe5d74ba4a1",
   "metadata": {},
   "outputs": [
    {
     "name": "stdout",
     "output_type": "stream",
     "text": [
      "Limit order placed:\n",
      "Order ID: c2dff72e-5baa-4bec-9e32-1cef4ae89bf5, Status: OrderStatus.PENDING_NEW, Type: OrderType.LIMIT\n"
     ]
    }
   ],
   "source": [
    "# Place a buy limit order at 90% of the current price (should not fill)\n",
    "# Useful to test order placement without risking real trades\n",
    "limit_price = round(ticker['price'] * 0.9, 2)\n",
    "amount = 0.1  # Very small quantity for safety\n",
    "\n",
    "try:\n",
    "    order = alpaca.place_order(symbol, \"buy\", amount, \"limit\", limit_price)\n",
    "    print(\"Limit order placed:\")\n",
    "    print(f\"Order ID: {order.id}, Status: {order.status}, Type: {order.order_type}\")\n",
    "except Exception as e:\n",
    "    print(f\"Error placing limit order: {e}\")"
   ]
  },
  {
   "cell_type": "code",
   "execution_count": 7,
   "id": "be944364-3479-48a5-afe1-5399f34cc3cf",
   "metadata": {},
   "outputs": [
    {
     "name": "stdout",
     "output_type": "stream",
     "text": [
      "Open Orders for ETH/USD:\n",
      "  - ID: c2dff72e-5baa-4bec-9e32-1cef4ae89bf5, Qty: 0.1, Status: OrderStatus.NEW, Type: OrderType.LIMIT, Side: OrderSide.BUY\n"
     ]
    }
   ],
   "source": [
    "# Fetch and display all currently open orders for the symbol\n",
    "orders = alpaca.fetch_open_orders(symbol)\n",
    "print(f\"Open Orders for {symbol}:\")\n",
    "for order in orders:\n",
    "    print(f\"  - ID: {order.id}, Qty: {order.qty}, Status: {order.status}, Type: {order.order_type}, Side: {order.side}\")"
   ]
  },
  {
   "cell_type": "code",
   "execution_count": 8,
   "id": "18ff3001-7c62-4d09-b7eb-b5ad0be96920",
   "metadata": {},
   "outputs": [
    {
     "name": "stdout",
     "output_type": "stream",
     "text": [
      "Final cleanup complete.\n"
     ]
    }
   ],
   "source": [
    "# Final cleanup: cancel all open orders to leave the account clean\n",
    "alpaca.cancel_all_orders(symbol)\n",
    "print(\"Final cleanup complete.\")"
   ]
  },
  {
   "cell_type": "code",
   "execution_count": 9,
   "id": "68189ee5-927c-4374-bea3-dbca6fb3d6e9",
   "metadata": {},
   "outputs": [
    {
     "name": "stdout",
     "output_type": "stream",
     "text": [
      "Proceeding to sell 0.0001 BTC...\n",
      "Sell order placed: id=UUID('3b36ca66-1215-4db6-a5de-f61c837329a8') client_order_id='d366c9e3-2b0e-41c3-8169-6135e9ae6a62' created_at=datetime.datetime(2025, 8, 16, 11, 0, 49, 711203, tzinfo=TzInfo(UTC)) updated_at=datetime.datetime(2025, 8, 16, 11, 0, 49, 712402, tzinfo=TzInfo(UTC)) submitted_at=datetime.datetime(2025, 8, 16, 11, 0, 49, 711203, tzinfo=TzInfo(UTC)) filled_at=None expired_at=None expires_at=datetime.datetime(2025, 11, 13, 21, 0, tzinfo=TzInfo(UTC)) canceled_at=None failed_at=None replaced_at=None replaced_by=None replaces=None asset_id=UUID('276e2673-764b-4ab6-a611-caf665ca6340') symbol='BTC/USD' asset_class=<AssetClass.CRYPTO: 'crypto'> notional=None qty='0.0001' filled_qty='0' filled_avg_price=None order_class=<OrderClass.SIMPLE: 'simple'> order_type=<OrderType.MARKET: 'market'> type=<OrderType.MARKET: 'market'> side=<OrderSide.SELL: 'sell'> time_in_force=<TimeInForce.GTC: 'gtc'> limit_price=None stop_price=None status=<OrderStatus.PENDING_NEW: 'pending_new'> extended_hours=False legs=None trail_percent=None trail_price=None hwm=None position_intent=<PositionIntent.SELL_TO_CLOSE: 'sell_to_close'> ratio_qty=None\n"
     ]
    }
   ],
   "source": [
    "# ✅ Parameters\n",
    "symbol = \"BTC/USD\"\n",
    "amount = 0.0001  # Small test amount\n",
    "\n",
    "# Buy before selling\n",
    "position = alpaca.fetch_position(symbol)\n",
    "qty_available = float(position.qty) if position else 0.0\n",
    "\n",
    "if qty_available < amount:\n",
    "    print(f\"Not enough BTC ({qty_available} available). Buying 0.0001 BTC first...\")\n",
    "    buy_order = alpaca.place_order(symbol, \"buy\", amount, \"market\")\n",
    "    print(\"Buy order placed. Waiting for fill...\")\n",
    "    position = alpaca.wait_for_filled_position(symbol)\n",
    "    if not position:\n",
    "        raise RuntimeError(\"Buy order not reflected in positions after waiting. Exiting.\")\n",
    "\n",
    "# Now place the sell\n",
    "print(f\"Proceeding to sell 0.0001 BTC...\")\n",
    "sell_order = alpaca.place_order(symbol, \"sell\", amount, \"market\")\n",
    "print(\"Sell order placed:\", sell_order)\n"
   ]
  },
  {
   "cell_type": "code",
   "execution_count": 12,
   "id": "c4deb06e-b221-4739-8880-592004036c87",
   "metadata": {},
   "outputs": [
    {
     "name": "stdout",
     "output_type": "stream",
     "text": [
      "📈 Placing Market Buy Order\n",
      "✅ Market Buy Order Placed: id=UUID('2a6562b6-fd4e-4867-b574-fd4443180ea4') client_order_id='7e85d0b2-d7db-4bd0-a9b2-0ae009d17f0c' created_at=datetime.datetime(2025, 8, 16, 11, 17, 8, 577670, tzinfo=TzInfo(UTC)) updated_at=datetime.datetime(2025, 8, 16, 11, 17, 8, 578879, tzinfo=TzInfo(UTC)) submitted_at=datetime.datetime(2025, 8, 16, 11, 17, 8, 577670, tzinfo=TzInfo(UTC)) filled_at=None expired_at=None expires_at=datetime.datetime(2025, 11, 13, 21, 0, tzinfo=TzInfo(UTC)) canceled_at=None failed_at=None replaced_at=None replaced_by=None replaces=None asset_id=UUID('276e2673-764b-4ab6-a611-caf665ca6340') symbol='BTC/USD' asset_class=<AssetClass.CRYPTO: 'crypto'> notional=None qty='0.01' filled_qty='0' filled_avg_price=None order_class=<OrderClass.SIMPLE: 'simple'> order_type=<OrderType.MARKET: 'market'> type=<OrderType.MARKET: 'market'> side=<OrderSide.BUY: 'buy'> time_in_force=<TimeInForce.GTC: 'gtc'> limit_price=None stop_price=None status=<OrderStatus.PENDING_NEW: 'pending_new'> extended_hours=False legs=None trail_percent=None trail_price=None hwm=None position_intent=<PositionIntent.BUY_TO_OPEN: 'buy_to_open'> ratio_qty=None\n",
      "📉 Placing Market Sell Order\n",
      "✅ Market Sell Order Placed: id=UUID('d42e13bc-e5a4-4f44-b85e-1a8aef27c062') client_order_id='9fcc94f4-c5a8-4646-996f-2392877a8a94' created_at=datetime.datetime(2025, 8, 16, 11, 17, 11, 855646, tzinfo=TzInfo(UTC)) updated_at=datetime.datetime(2025, 8, 16, 11, 17, 11, 856827, tzinfo=TzInfo(UTC)) submitted_at=datetime.datetime(2025, 8, 16, 11, 17, 11, 855646, tzinfo=TzInfo(UTC)) filled_at=None expired_at=None expires_at=datetime.datetime(2025, 11, 13, 21, 0, tzinfo=TzInfo(UTC)) canceled_at=None failed_at=None replaced_at=None replaced_by=None replaces=None asset_id=UUID('276e2673-764b-4ab6-a611-caf665ca6340') symbol='BTC/USD' asset_class=<AssetClass.CRYPTO: 'crypto'> notional=None qty='0.01' filled_qty='0' filled_avg_price=None order_class=<OrderClass.SIMPLE: 'simple'> order_type=<OrderType.MARKET: 'market'> type=<OrderType.MARKET: 'market'> side=<OrderSide.SELL: 'sell'> time_in_force=<TimeInForce.GTC: 'gtc'> limit_price=None stop_price=None status=<OrderStatus.PENDING_NEW: 'pending_new'> extended_hours=False legs=None trail_percent=None trail_price=None hwm=None position_intent=<PositionIntent.SELL_TO_CLOSE: 'sell_to_close'> ratio_qty=None\n",
      "⏳ Placing Limit Buy Order at $10,000\n",
      "✅ Limit Buy Order Placed: id=UUID('5d6d1c38-0ea8-4358-8248-e33e3ce294be') client_order_id='749fe6d5-7be8-445d-8c08-24350e821654' created_at=datetime.datetime(2025, 8, 16, 11, 17, 15, 134073, tzinfo=TzInfo(UTC)) updated_at=datetime.datetime(2025, 8, 16, 11, 17, 15, 135200, tzinfo=TzInfo(UTC)) submitted_at=datetime.datetime(2025, 8, 16, 11, 17, 15, 134073, tzinfo=TzInfo(UTC)) filled_at=None expired_at=None expires_at=datetime.datetime(2025, 11, 13, 21, 0, tzinfo=TzInfo(UTC)) canceled_at=None failed_at=None replaced_at=None replaced_by=None replaces=None asset_id=UUID('276e2673-764b-4ab6-a611-caf665ca6340') symbol='BTC/USD' asset_class=<AssetClass.CRYPTO: 'crypto'> notional=None qty='0.01' filled_qty='0' filled_avg_price=None order_class=<OrderClass.SIMPLE: 'simple'> order_type=<OrderType.LIMIT: 'limit'> type=<OrderType.LIMIT: 'limit'> side=<OrderSide.BUY: 'buy'> time_in_force=<TimeInForce.GTC: 'gtc'> limit_price='10000' stop_price=None status=<OrderStatus.PENDING_NEW: 'pending_new'> extended_hours=False legs=None trail_percent=None trail_price=None hwm=None position_intent=<PositionIntent.BUY_TO_OPEN: 'buy_to_open'> ratio_qty=None\n"
     ]
    },
    {
     "data": {
      "text/plain": [
       "'\\n# Alpaca Crypto Does Not Currently Allow Stop Loss\\n# 🛑 Stop-Loss Order - Sell (place above current price to avoid trigger)\\nstop_price = 130000  # Unlikely to be triggered, for test\\nprint(f\"🛑 Placing Stop-Loss Sell Order at ${stop_price}\")\\nstop_order = alpaca.place_order(symbol, \"sell\", qty, order_type=\"stop\", stop_price=stop_price)\\nprint(\"✅ Stop-Loss Sell Order Placed:\", stop_order)\\n'"
      ]
     },
     "execution_count": 12,
     "metadata": {},
     "output_type": "execute_result"
    }
   ],
   "source": [
    "# 📦 Test placing different types of orders using AlpacaSpot wrapper\n",
    "from alpaca_spot import AlpacaSpot\n",
    "import time\n",
    "\n",
    "alpaca = AlpacaSpot()\n",
    "symbol = \"BTC/USD\"\n",
    "qty = 0.01  # Small amount for testing\n",
    "\n",
    "# 💰 Market Order - Buy\n",
    "print(\"📈 Placing Market Buy Order\")\n",
    "market_order = alpaca.place_order(symbol, \"buy\", qty, \"market\")\n",
    "print(\"✅ Market Buy Order Placed:\", market_order)\n",
    "\n",
    "time.sleep(3)  # Wait a moment to avoid order conflict\n",
    "\n",
    "# 📉 Market Order - Sell\n",
    "print(\"📉 Placing Market Sell Order\")\n",
    "market_sell_order = alpaca.place_order(symbol, \"sell\", qty, \"market\")\n",
    "print(\"✅ Market Sell Order Placed:\", market_sell_order)\n",
    "\n",
    "time.sleep(3)\n",
    "\n",
    "# 💸 Limit Order - Buy (place well below current price to avoid immediate fill)\n",
    "limit_price = 10000  # Unlikely to be filled, for test\n",
    "print(\"⏳ Placing Limit Buy Order at $10,000\")\n",
    "limit_order = alpaca.place_order(symbol, \"buy\", qty, \"limit\", limit_price)\n",
    "print(\"✅ Limit Buy Order Placed:\", limit_order)\n",
    "\n",
    "time.sleep(3)\n",
    "\n",
    "'''\n",
    "# Alpaca Crypto Does Not Currently Allow Stop Loss\n",
    "# 🛑 Stop-Loss Order - Sell (place above current price to avoid trigger)\n",
    "stop_price = 130000  # Unlikely to be triggered, for test\n",
    "print(f\"🛑 Placing Stop-Loss Sell Order at ${stop_price}\")\n",
    "stop_order = alpaca.place_order(symbol, \"sell\", qty, order_type=\"stop\", stop_price=stop_price)\n",
    "print(\"✅ Stop-Loss Sell Order Placed:\", stop_order)\n",
    "'''"
   ]
  },
  {
   "cell_type": "code",
   "execution_count": null,
   "id": "08f42078-93dc-4607-8bb8-1ce40150b82f",
   "metadata": {},
   "outputs": [],
   "source": []
  }
 ],
 "metadata": {
  "kernelspec": {
   "display_name": "Python 3 (ipykernel)",
   "language": "python",
   "name": "python3"
  },
  "language_info": {
   "codemirror_mode": {
    "name": "ipython",
    "version": 3
   },
   "file_extension": ".py",
   "mimetype": "text/x-python",
   "name": "python",
   "nbconvert_exporter": "python",
   "pygments_lexer": "ipython3",
   "version": "3.12.3"
  }
 },
 "nbformat": 4,
 "nbformat_minor": 5
}
